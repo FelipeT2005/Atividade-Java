{
  "nbformat": 4,
  "nbformat_minor": 0,
  "metadata": {
    "colab": {
      "provenance": [],
      "authorship_tag": "ABX9TyMCkQln9k/3B72kXaaMg+lz",
      "include_colab_link": true
    },
    "kernelspec": {
      "name": "python3",
      "display_name": "Python 3"
    },
    "language_info": {
      "name": "python"
    }
  },
  "cells": [
    {
      "cell_type": "markdown",
      "metadata": {
        "id": "view-in-github",
        "colab_type": "text"
      },
      "source": [
        "<a href=\"https://colab.research.google.com/github/FelipeT2005/Atividade-Java/blob/main/Felipe_Modulo_01_.ipynb\" target=\"_parent\"><img src=\"https://colab.research.google.com/assets/colab-badge.svg\" alt=\"Open In Colab\"/></a>"
      ]
    },
    {
      "cell_type": "markdown",
      "source": [
        "Faça um programa em Python que receba o valor de uma conta e um\n",
        "percentual de desconto. Calcule o novo valor da conta ao ser aplicado o\n",
        "percentual de desconto e escreva o resultado obtido.\n",
        "\n"
      ],
      "metadata": {
        "id": "NdZ0f79fHmhl"
      }
    },
    {
      "cell_type": "code",
      "execution_count": 5,
      "metadata": {
        "colab": {
          "base_uri": "https://localhost:8080/"
        },
        "id": "cKa_7gxjFsGO",
        "outputId": "c87924a5-7183-460a-b684-2e59675882c3"
      },
      "outputs": [
        {
          "output_type": "stream",
          "name": "stdout",
          "text": [
            " Insira o Conta =100\n",
            " Insira o Desconto =10\n",
            "O novo Conta será -90.0\n"
          ]
        }
      ],
      "source": [
        "Conta = float(input(\" Insira o Conta =\"))#Entrada\n",
        "Desconto = float(input(\" Insira o Desconto =\"))#Entrada\n",
        "Conta = ((Conta /100) * Desconto) - Conta#Processo\n",
        "print(\"O novo Conta será\",Conta )#Saida"
      ]
    },
    {
      "cell_type": "markdown",
      "source": [
        "2) Escreva um programa em python utilizando os comandos (entrada e saida de\n",
        "dados, estruturas condicional e de repetição), que imprima na tela um MENU\n",
        "contendo as seguintes opções:"
      ],
      "metadata": {
        "id": "N7jn85oaI6Of"
      }
    },
    {
      "cell_type": "code",
      "source": [
        "# Atividade Realizada em dupla com:\n",
        "#Heleonora Machado\n",
        "usuarios = []\n",
        "\n",
        "while True:\n",
        "    print(\"Menu:\")\n",
        "    print(\"1 = Incluir usuário\")\n",
        "    print(\"2 = Excluir usuário\")\n",
        "    print(\"3 = Consultar usuário\")\n",
        "    print(\"4 = Alterar usuário\")\n",
        "    print(\"5 = Listar todos os usuários que estão cadastrados\")\n",
        "    print(\"9 = Sair\")\n",
        "\n",
        "    opcao = input(\"Escolha uma opção: \")\n",
        "\n",
        "    if opcao == '1':\n",
        "\n",
        "        print(\"1=Incluir usuário\")\n",
        "        break\n",
        "    elif opcao == '2':\n",
        "\n",
        "        print(\"2=Excluir usuário\")\n",
        "        break\n",
        "    elif opcao == '3':\n",
        "\n",
        "        print(\"3=Consultar usuário\")\n",
        "        break\n",
        "    elif opcao == '4':\n",
        "\n",
        "        print(\"4=Alterar usuário\")\n",
        "        break\n",
        "    elif opcao == '5':\n",
        "\n",
        "        print(\"5=Listar todos os usuários que estão cadastrados\")\n",
        "        break\n",
        "    elif opcao == '9':\n",
        "\n",
        "        print(\"Saindo...\")\n",
        "        break\n",
        "\n",
        "    else:\n",
        "        print(\"Opção inválida. Tente novamente.\")"
      ],
      "metadata": {
        "colab": {
          "base_uri": "https://localhost:8080/"
        },
        "id": "0DIWSEdaI6b_",
        "outputId": "c32a18cd-9559-4385-c9f4-d3987d147532"
      },
      "execution_count": 15,
      "outputs": [
        {
          "output_type": "stream",
          "name": "stdout",
          "text": [
            "Menu:\n",
            "1 = Incluir usuário\n",
            "2 = Excluir usuário\n",
            "3 = Consultar usuário\n",
            "4 = Alterar usuário\n",
            "5 = Listar todos os usuários que estão cadastrados\n",
            "9 = Sair\n",
            "Escolha uma opção: 8\n",
            "Opção inválida. Tente novamente.\n",
            "Menu:\n",
            "1 = Incluir usuário\n",
            "2 = Excluir usuário\n",
            "3 = Consultar usuário\n",
            "4 = Alterar usuário\n",
            "5 = Listar todos os usuários que estão cadastrados\n",
            "9 = Sair\n",
            "Escolha uma opção: 9\n",
            "Saindo...\n"
          ]
        }
      ]
    },
    {
      "cell_type": "markdown",
      "source": [
        "3) Faça um programa que receba a altura e o sexo de uma pessoa. Por meio\n",
        "desses dados calcule e mostre o peso ideal para a pessoa. Utilize as fórmulas\n",
        "a seguir (obs: h corresponde à altura):"
      ],
      "metadata": {
        "id": "uDkVWsrRLaf1"
      }
    },
    {
      "cell_type": "code",
      "source": [
        "Altura = float(input(\" Insira sua Altura (em metros)=\"))\n",
        "sexo = (input(\" Digite seu sexo (M/F):=\"))\n",
        "\n",
        "if sexo == 'M':\n",
        "  peso_ideal = (72.7 * altura) - 58\n",
        "elif sexo == 'F':\n",
        "  peso_ideal = (62.1 * altura) - 44.7\n",
        "print(\"Seu peso ideal é:\",peso_ideal )"
      ],
      "metadata": {
        "id": "QJ46gBFbLzxw"
      },
      "execution_count": null,
      "outputs": []
    }
  ]
}